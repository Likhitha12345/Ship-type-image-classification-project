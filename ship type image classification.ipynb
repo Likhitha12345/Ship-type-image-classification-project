{
 "cells": [
  {
   "cell_type": "code",
   "execution_count": 1,
   "metadata": {},
   "outputs": [],
   "source": [
    "import numpy as np\n",
    "import pandas as pd\n",
    "import seaborn as sns\n",
    "from matplotlib import pyplot as plt\n",
    "import os\n",
    "from IPython.display import Image"
   ]
  },
  {
   "cell_type": "code",
   "execution_count": 2,
   "metadata": {},
   "outputs": [
    {
     "name": "stdout",
     "output_type": "stream",
     "text": [
      "data shape:  (6252, 2)\n"
     ]
    },
    {
     "data": {
      "text/html": [
       "<div>\n",
       "<style scoped>\n",
       "    .dataframe tbody tr th:only-of-type {\n",
       "        vertical-align: middle;\n",
       "    }\n",
       "\n",
       "    .dataframe tbody tr th {\n",
       "        vertical-align: top;\n",
       "    }\n",
       "\n",
       "    .dataframe thead th {\n",
       "        text-align: right;\n",
       "    }\n",
       "</style>\n",
       "<table border=\"1\" class=\"dataframe\">\n",
       "  <thead>\n",
       "    <tr style=\"text-align: right;\">\n",
       "      <th></th>\n",
       "      <th>image</th>\n",
       "      <th>category</th>\n",
       "      <th>label</th>\n",
       "    </tr>\n",
       "  </thead>\n",
       "  <tbody>\n",
       "    <tr>\n",
       "      <th>0</th>\n",
       "      <td>2823080.jpg</td>\n",
       "      <td>0</td>\n",
       "      <td>Cargo</td>\n",
       "    </tr>\n",
       "    <tr>\n",
       "      <th>1</th>\n",
       "      <td>2870024.jpg</td>\n",
       "      <td>0</td>\n",
       "      <td>Cargo</td>\n",
       "    </tr>\n",
       "    <tr>\n",
       "      <th>2</th>\n",
       "      <td>2662125.jpg</td>\n",
       "      <td>1</td>\n",
       "      <td>Military</td>\n",
       "    </tr>\n",
       "    <tr>\n",
       "      <th>3</th>\n",
       "      <td>2900420.jpg</td>\n",
       "      <td>2</td>\n",
       "      <td>Carrier</td>\n",
       "    </tr>\n",
       "    <tr>\n",
       "      <th>4</th>\n",
       "      <td>2804883.jpg</td>\n",
       "      <td>1</td>\n",
       "      <td>Military</td>\n",
       "    </tr>\n",
       "  </tbody>\n",
       "</table>\n",
       "</div>"
      ],
      "text/plain": [
       "         image  category     label\n",
       "0  2823080.jpg         0     Cargo\n",
       "1  2870024.jpg         0     Cargo\n",
       "2  2662125.jpg         1  Military\n",
       "3  2900420.jpg         2   Carrier\n",
       "4  2804883.jpg         1  Military"
      ]
     },
     "execution_count": 2,
     "metadata": {},
     "output_type": "execute_result"
    }
   ],
   "source": [
    "data_csv = pd.read_csv(r'C:\\Users\\rjhcl\\Downloads\\ships image classification\\train\\train.csv')\n",
    "print('data shape: ', data_csv.shape)\n",
    "\n",
    "categories = {0: 'Cargo' , 1: 'Military', 2: 'Carrier', 3: 'Cruise', 4: 'Tankers'}\n",
    "\n",
    "data_csv['category'] = data_csv['category'] - 1\n",
    "data_csv['label'] = data_csv['category'].map(categories)\n",
    "data_csv['label'] = pd.Categorical(data_csv['label'])\n",
    "data_csv.head()"
   ]
  },
  {
   "cell_type": "code",
   "execution_count": 3,
   "metadata": {},
   "outputs": [
    {
     "name": "stderr",
     "output_type": "stream",
     "text": [
      "C:\\Users\\rjhcl\\anaconda3\\lib\\site-packages\\seaborn\\_decorators.py:36: FutureWarning: Pass the following variable as a keyword arg: x. From version 0.12, the only valid positional argument will be `data`, and passing other arguments without an explicit keyword will result in an error or misinterpretation.\n",
      "  warnings.warn(\n"
     ]
    },
    {
     "data": {
      "text/plain": [
       "Text(0, 0.5, 'Counts of observation')"
      ]
     },
     "execution_count": 3,
     "metadata": {},
     "output_type": "execute_result"
    },
    {
     "data": {
      "image/png": "[encoded data removed]",
      "text/plain": [
       "<Figure size 432x288 with 1 Axes>"
      ]
     },
     "metadata": {
      "needs_background": "light"
     },
     "output_type": "display_data"
    }
   ],
   "source": [
    "sns.countplot(data_csv['label'])\n",
    "plt.title('Ship Category Distribution')\n",
    "plt.xlabel('Categories')\n",
    "plt.ylabel('Counts of observation')"
   ]
  },
  {
   "cell_type": "code",
   "execution_count": 5,
   "metadata": {},
   "outputs": [
    {
     "name": "stdout",
     "output_type": "stream",
     "text": [
      "Shape of X:  (6252, 128, 128, 3)\n"
     ]
    }
   ],
   "source": [
    "import cv2\n",
    "\n",
    "path = r'C:\\Users\\rjhcl\\Downloads\\ships image classification\\train\\images'\n",
    "\n",
    "img_list = list(data_csv['image'])\n",
    "\n",
    "data_img = []\n",
    "\n",
    "for each in img_list:\n",
    "    each_path = os.path.join(path,each)\n",
    "    each_img = cv2.imread(each_path)\n",
    "    each_img = cv2.cvtColor(each_img, cv2.COLOR_BGR2RGB)\n",
    "    each_img_resized = cv2.resize(each_img, (128,128))\n",
    "    data_img.append(each_img_resized)\n",
    "    \n",
    "X = np.array(data_img)\n",
    "print('Shape of X: ', X.shape)"
   ]
  },
  {
   "cell_type": "code",
   "execution_count": 6,
   "metadata": {},
   "outputs": [
    {
     "name": "stdout",
     "output_type": "stream",
     "text": [
      "Shape of y:  (6252, 5)\n"
     ]
    }
   ],
   "source": [
    "from sklearn.preprocessing import OneHotEncoder\n",
    "\n",
    "y = OneHotEncoder(dtype='int8', sparse=False).fit_transform(data_csv['category'].values.reshape(-1,1))\n",
    "print('Shape of y: ', y.shape)"
   ]
  },
  {
   "cell_type": "code",
   "execution_count": 7,
   "metadata": {},
   "outputs": [],
   "source": [
    "from sklearn.model_selection import train_test_split\n",
    "\n",
    "X_data, X_test, y_data, y_test = train_test_split(X,y, test_size=0.15, random_state=42)\n",
    "X_train, X_val, y_train, y_val = train_test_split(X_data, y_data, test_size = 0.2, random_state=42)"
   ]
  },
  {
   "cell_type": "code",
   "execution_count": 10,
   "metadata": {},
   "outputs": [],
   "source": [
    "from tensorflow.keras.preprocessing.image import ImageDataGenerator\n",
    "\n",
    "train_gen = ImageDataGenerator(horizontal_flip= True,\n",
    "                               rotation_range = 45,\n",
    "                               zoom_range=0.2,\n",
    "                               height_shift_range = 0.5,\n",
    "                               width_shift_range = 0.5\n",
    "                              )\n",
    "validation_gen = ImageDataGenerator(horizontal_flip= True,\n",
    "                               rotation_range = 45,\n",
    "                               zoom_range=0.2,\n",
    "                               height_shift_range = 0.5,\n",
    "                               width_shift_range = 0.5\n",
    "                              )\n",
    "\n",
    "train_gen.fit(X_train)\n",
    "validation_gen.fit(X_val)"
   ]
  },
  {
   "cell_type": "code",
   "execution_count": 16,
   "metadata": {
    "scrolled": true
   },
   "outputs": [
    {
     "name": "stderr",
     "output_type": "stream",
     "text": [
      "<ipython-input-16-3bd32a636d6b>:21: UserWarning: `Model.fit_generator` is deprecated and will be removed in a future version. Please use `Model.fit`, which supports generators.\n",
      "  history = model.fit_generator(train_gen.flow(X_train, y_train, batch_size = batch_size),\n"
     ]
    },
    {
     "name": "stdout",
     "output_type": "stream",
     "text": [
      "Epoch 1/15\n",
      "42/42 [==============================] - 983s 23s/step - loss: 1.3304 - accuracy: 0.4654 - val_loss: 1.6035 - val_accuracy: 0.4384\n",
      "Epoch 2/15\n",
      "42/42 [==============================] - 4064s 99s/step - loss: 0.7940 - accuracy: 0.6909 - val_loss: 1.1540 - val_accuracy: 0.6246\n",
      "Epoch 3/15\n",
      "42/42 [==============================] - 613s 15s/step - loss: 0.5962 - accuracy: 0.7697 - val_loss: 0.8761 - val_accuracy: 0.7234\n",
      "Epoch 4/15\n",
      "42/42 [==============================] - 11468s 279s/step - loss: 0.5072 - accuracy: 0.7938 - val_loss: 0.6556 - val_accuracy: 0.7676\n",
      "Epoch 5/15\n",
      "42/42 [==============================] - 562s 13s/step - loss: 0.4575 - accuracy: 0.8261 - val_loss: 0.5467 - val_accuracy: 0.8006\n",
      "Epoch 6/15\n",
      "42/42 [==============================] - 11444s 279s/step - loss: 0.4307 - accuracy: 0.8379 - val_loss: 0.5156 - val_accuracy: 0.8034\n",
      "Epoch 7/15\n",
      "42/42 [==============================] - 533s 13s/step - loss: 0.3902 - accuracy: 0.8470 - val_loss: 0.4684 - val_accuracy: 0.8175\n",
      "Epoch 8/15\n",
      "42/42 [==============================] - 535s 13s/step - loss: 0.3713 - accuracy: 0.8562 - val_loss: 0.4499 - val_accuracy: 0.8354\n",
      "Epoch 9/15\n",
      "42/42 [==============================] - 3714s 90s/step - loss: 0.3382 - accuracy: 0.8689 - val_loss: 0.4825 - val_accuracy: 0.8166\n",
      "Epoch 10/15\n",
      "42/42 [==============================] - 575s 14s/step - loss: 0.3240 - accuracy: 0.8745 - val_loss: 0.4420 - val_accuracy: 0.8391\n",
      "Epoch 11/15\n",
      "42/42 [==============================] - 590s 14s/step - loss: 0.2975 - accuracy: 0.8887 - val_loss: 0.4180 - val_accuracy: 0.8514\n",
      "Epoch 12/15\n",
      "42/42 [==============================] - 2033s 49s/step - loss: 0.2978 - accuracy: 0.8873 - val_loss: 0.3842 - val_accuracy: 0.8617\n",
      "Epoch 13/15\n",
      "42/42 [==============================] - 654s 16s/step - loss: 0.2700 - accuracy: 0.8981 - val_loss: 0.4405 - val_accuracy: 0.8429\n",
      "Epoch 14/15\n",
      "42/42 [==============================] - 707s 17s/step - loss: 0.2655 - accuracy: 0.8993 - val_loss: 0.3941 - val_accuracy: 0.8448\n",
      "Epoch 15/15\n",
      "42/42 [==============================] - 717s 17s/step - loss: 0.2406 - accuracy: 0.9073 - val_loss: 0.3858 - val_accuracy: 0.8579\n"
     ]
    }
   ],
   "source": [
    "from tensorflow.keras.models import Sequential, Model\n",
    "from tensorflow.keras.layers import Dense, Flatten, Conv2D, MaxPool2D, GlobalAveragePooling2D, Dropout\n",
    "from tensorflow.keras.applications.xception import Xception\n",
    "from tensorflow.keras.optimizers import Adam\n",
    "\n",
    "batch_size = 100\n",
    "epochs = 15\n",
    "\n",
    "base = Xception(include_top = False, weights='imagenet', input_shape=(128,128,3))\n",
    "x = base.output\n",
    "x = GlobalAveragePooling2D()(x)\n",
    "\n",
    "head = Dense(5, activation = 'softmax')(x)\n",
    "model = Model(inputs = base.input, outputs = head)\n",
    "\n",
    "model.compile(optimizer=Adam(lr=0.0001),\n",
    "              loss = 'categorical_crossentropy',\n",
    "              metrics=['accuracy']\n",
    "             )\n",
    "\n",
    "history = model.fit_generator(train_gen.flow(X_train, y_train, batch_size = batch_size),\n",
    "                              epochs = epochs,\n",
    "                              validation_data = validation_gen.flow(X_val, y_val, batch_size = batch_size),\n",
    "                              steps_per_epoch = X_train.shape[0] // batch_size\n",
    "                             )"
   ]
  },
  {
   "cell_type": "code",
   "execution_count": 18,
   "metadata": {},
   "outputs": [
    {
     "data": {
      "image/png": "[encoded data removed]",
      "text/plain": [
       "<Figure size 576x576 with 2 Axes>"
      ]
     },
     "metadata": {
      "needs_background": "light"
     },
     "output_type": "display_data"
    }
   ],
   "source": [
    "from sklearn.metrics import classification_report, confusion_matrix\n",
    "\n",
    "y_pred = model.predict(X_test)\n",
    "\n",
    "y_pred_classes = np.argmax(y_pred, axis=1)\n",
    "\n",
    "y_test_classes = np.argmax(y_test, axis=1)\n",
    "\n",
    "confmx = confusion_matrix(y_test_classes, y_pred_classes)\n",
    "f, ax = plt.subplots(figsize = (8,8))\n",
    "sns.heatmap(confmx, annot=True, fmt = '.1f', ax=ax)\n",
    "plt.xlabel('Predicted Labels')\n",
    "plt.ylabel('True Labels')\n",
    "plt.title('Confusion Matrix')\n",
    "plt.show()"
   ]
  },
  {
   "cell_type": "code",
   "execution_count": 20,
   "metadata": {
    "scrolled": true
   },
   "outputs": [
    {
     "name": "stdout",
     "output_type": "stream",
     "text": [
      "              precision    recall  f1-score   support\n",
      "\n",
      "           0       0.88      0.87      0.88       306\n",
      "           1       0.91      0.96      0.93       172\n",
      "           2       0.99      0.97      0.98       140\n",
      "           3       0.96      0.94      0.95       127\n",
      "           4       0.84      0.84      0.84       193\n",
      "\n",
      "    accuracy                           0.90       938\n",
      "   macro avg       0.92      0.92      0.92       938\n",
      "weighted avg       0.90      0.90      0.90       938\n",
      "\n"
     ]
    }
   ],
   "source": [
    "print(classification_report(y_test_classes, y_pred_classes))"
   ]
  },
  {
   "cell_type": "code",
   "execution_count": 21,
   "metadata": {},
   "outputs": [
    {
     "name": "stderr",
     "output_type": "stream",
     "text": [
      "C:\\Users\\rjhcl\\anaconda3\\lib\\site-packages\\keras\\engine\\functional.py:1410: CustomMaskWarning: Custom mask layers require a config and must override get_config. When loading, the custom mask layer must be passed to the custom_objects argument.\n",
      "  layer_config = serialize_layer_fn(layer)\n"
     ]
    }
   ],
   "source": [
    "model.save(\"Ship-shape.h5\")"
   ]
  },
  {
   "cell_type": "code",
   "execution_count": 26,
   "metadata": {},
   "outputs": [
    {
     "name": "stdout",
     "output_type": "stream",
     "text": [
      "Overwriting my_app.py\n"
     ]
    }
   ],
   "source": [
    "%%writefile my_app.py\n",
    "import streamlit as st\n",
    "import tensorflow as tf\n",
    "import numpy as np\n",
    "from PIL import Image, ImageOps\n",
    "st.title(\"Image Classification\")\n",
    "upload_file = st.sidebar.file_uploader(\"Upload ship images\", type = 'jpg')\n",
    "generate_pred = st.sidebar.button(\"predict\")\n",
    "model = tf.keras.models.load_model('Ship-shape.h5')\n",
    "def import_n_pred(image_data, model):\n",
    "    size = (128,128)\n",
    "    image = ImageOps.fit(image_data, size, Image.ANTIALIAS)\n",
    "    img = np.asarray(image)\n",
    "    reshape = img[np.newaxis,...]\n",
    "    pred = model.predict(reshape)\n",
    "    return pred\n",
    "if generate_pred:\n",
    "    image = Image.open(upload_file)\n",
    "    with st.beta_expander('image', expanded=True):\n",
    "        st.image(image, use_column_width=True)\n",
    "    pred = import_n_pred(image, model)\n",
    "    labels = ['Cargo ship' , 'Military ship', 'Carrier ship', 'Cruise', 'Tanker ship']\n",
    "    st.title(\"prediction of image is {}\".format(labels[np.argmax(pred)]))"
   ]
  },
  {
   "cell_type": "code",
   "execution_count": null,
   "metadata": {},
   "outputs": [],
   "source": [
    "!streamlit run my_app.py"
   ]
  },
  {
   "cell_type": "code",
   "execution_count": null,
   "metadata": {},
   "outputs": [],
   "source": []
  }
 ],
 "metadata": {
  "kernelspec": {
   "display_name": "Python 3",
   "language": "python",
   "name": "python3"
  },
  "language_info": {
   "codemirror_mode": {
    "name": "ipython",
    "version": 3
   },
   "file_extension": ".py",
   "mimetype": "text/x-python",
   "name": "python",
   "nbconvert_exporter": "python",
   "pygments_lexer": "ipython3",
   "version": "3.8.5"
  }
 },
 "nbformat": 4,
 "nbformat_minor": 4
}
